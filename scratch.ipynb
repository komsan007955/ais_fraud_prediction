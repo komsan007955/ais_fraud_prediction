{
 "cells": [
  {
   "cell_type": "code",
   "execution_count": 24,
   "metadata": {},
   "outputs": [
    {
     "data": {
      "text/html": [
       "<div>\n",
       "<style scoped>\n",
       "    .dataframe tbody tr th:only-of-type {\n",
       "        vertical-align: middle;\n",
       "    }\n",
       "\n",
       "    .dataframe tbody tr th {\n",
       "        vertical-align: top;\n",
       "    }\n",
       "\n",
       "    .dataframe thead th {\n",
       "        text-align: right;\n",
       "    }\n",
       "</style>\n",
       "<table border=\"1\" class=\"dataframe\">\n",
       "  <thead>\n",
       "    <tr style=\"text-align: right;\">\n",
       "      <th></th>\n",
       "      <th>address</th>\n",
       "      <th>contact_phone</th>\n",
       "      <th>credit_card_no</th>\n",
       "      <th>customer_name</th>\n",
       "      <th>email</th>\n",
       "      <th>id_card_no</th>\n",
       "      <th>date_of_birth</th>\n",
       "      <th>member_since</th>\n",
       "      <th>sex</th>\n",
       "      <th>status</th>\n",
       "    </tr>\n",
       "  </thead>\n",
       "  <tbody>\n",
       "    <tr>\n",
       "      <th>0</th>\n",
       "      <td>9084 Destiny Drives Apt. 873 Cooperton, DC 75097</td>\n",
       "      <td>0931410005</td>\n",
       "      <td>6982000070</td>\n",
       "      <td>Apisit Chaiyachard</td>\n",
       "      <td>5555@example.com</td>\n",
       "      <td>11027005343335555</td>\n",
       "      <td>1995-11-14</td>\n",
       "      <td>2021-08-03</td>\n",
       "      <td>male</td>\n",
       "      <td>single</td>\n",
       "    </tr>\n",
       "  </tbody>\n",
       "</table>\n",
       "</div>"
      ],
      "text/plain": [
       "                                            address contact_phone  \\\n",
       "0  9084 Destiny Drives Apt. 873 Cooperton, DC 75097    0931410005   \n",
       "\n",
       "  credit_card_no       customer_name             email         id_card_no  \\\n",
       "0     6982000070  Apisit Chaiyachard  5555@example.com  11027005343335555   \n",
       "\n",
       "  date_of_birth member_since   sex  status  \n",
       "0    1995-11-14   2021-08-03  male  single  "
      ]
     },
     "execution_count": 24,
     "metadata": {},
     "output_type": "execute_result"
    }
   ],
   "source": [
    "import json\n",
    "import pandas as pd\n",
    "\n",
    "raw_data = json.load(open(\"dataset/test_data.json\", \"r\"))\n",
    "df = pd.DataFrame([raw_data])\n",
    "df.head(5)"
   ]
  },
  {
   "cell_type": "code",
   "execution_count": 23,
   "metadata": {},
   "outputs": [
    {
     "data": {
      "text/plain": [
       "{'name': 'Azure'}"
      ]
     },
     "execution_count": 23,
     "metadata": {},
     "output_type": "execute_result"
    }
   ],
   "source": [
    "import ast\n",
    "str_b = b\"{'name': 'Azure'}\"\n",
    "ast.literal_eval(str_b.decode(\"UTF-8\"))"
   ]
  },
  {
   "cell_type": "code",
   "execution_count": 27,
   "metadata": {},
   "outputs": [
    {
     "data": {
      "text/plain": [
       "b'{\"name\": \"Azure\"}'"
      ]
     },
     "execution_count": 27,
     "metadata": {},
     "output_type": "execute_result"
    }
   ],
   "source": [
    "data = {\"name\": \"Azure\"}\n",
    "str.encode(json.dumps(data))"
   ]
  },
  {
   "cell_type": "code",
   "execution_count": null,
   "metadata": {},
   "outputs": [],
   "source": []
  }
 ],
 "metadata": {
  "kernelspec": {
   "display_name": "base",
   "language": "python",
   "name": "python3"
  },
  "language_info": {
   "codemirror_mode": {
    "name": "ipython",
    "version": 3
   },
   "file_extension": ".py",
   "mimetype": "text/x-python",
   "name": "python",
   "nbconvert_exporter": "python",
   "pygments_lexer": "ipython3",
   "version": "3.11.4"
  }
 },
 "nbformat": 4,
 "nbformat_minor": 2
}
